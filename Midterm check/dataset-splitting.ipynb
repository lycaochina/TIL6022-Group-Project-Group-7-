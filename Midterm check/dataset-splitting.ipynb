{
 "cells": [
  {
   "cell_type": "code",
   "execution_count": 1,
   "id": "3fbfd94a-82e7-45d8-821f-5aa72ba0d10a",
   "metadata": {},
   "outputs": [],
   "source": [
    "import numpy as np\n",
    "import pandas as pd\n",
    "# import geopandas as gpd\n",
    "import matplotlib.pyplot as plt\n",
    "import plotly.express as px\n",
    "import sklearn.cluster as cluster"
   ]
  },
  {
   "cell_type": "code",
   "execution_count": 2,
   "id": "0288dc66-7be8-4ab1-9e69-094afc4c729a",
   "metadata": {},
   "outputs": [
    {
     "name": "stderr",
     "output_type": "stream",
     "text": [
      "C:\\Users\\Gavin\\AppData\\Local\\Temp\\ipykernel_16528\\1142646595.py:1: DtypeWarning: Columns (8) have mixed types. Specify dtype option on import or set low_memory=False.\n",
      "  taxi_2014 = pd.read_csv(\n"
     ]
    }
   ],
   "source": [
    "taxi_2014 = pd.read_csv(\n",
    "    './nyc_taxi_data.csv',\n",
    ")"
   ]
  },
  {
   "cell_type": "code",
   "execution_count": 3,
   "id": "886db03b-4c5f-48d0-aa20-2f9ec6504caf",
   "metadata": {},
   "outputs": [
    {
     "data": {
      "text/html": [
       "<div>\n",
       "<style scoped>\n",
       "    .dataframe tbody tr th:only-of-type {\n",
       "        vertical-align: middle;\n",
       "    }\n",
       "\n",
       "    .dataframe tbody tr th {\n",
       "        vertical-align: top;\n",
       "    }\n",
       "\n",
       "    .dataframe thead th {\n",
       "        text-align: right;\n",
       "    }\n",
       "</style>\n",
       "<table border=\"1\" class=\"dataframe\">\n",
       "  <thead>\n",
       "    <tr style=\"text-align: right;\">\n",
       "      <th></th>\n",
       "      <th>vendor_id</th>\n",
       "      <th>pickup_datetime</th>\n",
       "      <th>dropoff_datetime</th>\n",
       "      <th>passenger_count</th>\n",
       "      <th>trip_distance</th>\n",
       "      <th>pickup_longitude</th>\n",
       "      <th>pickup_latitude</th>\n",
       "      <th>rate_code</th>\n",
       "      <th>store_and_fwd_flag</th>\n",
       "      <th>dropoff_longitude</th>\n",
       "      <th>dropoff_latitude</th>\n",
       "      <th>payment_type</th>\n",
       "      <th>fare_amount</th>\n",
       "      <th>surcharge</th>\n",
       "      <th>mta_tax</th>\n",
       "      <th>tip_amount</th>\n",
       "      <th>tolls_amount</th>\n",
       "      <th>total_amount</th>\n",
       "    </tr>\n",
       "  </thead>\n",
       "  <tbody>\n",
       "    <tr>\n",
       "      <th>0</th>\n",
       "      <td>CMT</td>\n",
       "      <td>2014-01-09 20:45:25</td>\n",
       "      <td>2014-01-09 20:52:31</td>\n",
       "      <td>1</td>\n",
       "      <td>0.7</td>\n",
       "      <td>-73.994770</td>\n",
       "      <td>40.736828</td>\n",
       "      <td>1</td>\n",
       "      <td>N</td>\n",
       "      <td>-73.982227</td>\n",
       "      <td>40.731790</td>\n",
       "      <td>CRD</td>\n",
       "      <td>6.5</td>\n",
       "      <td>0.5</td>\n",
       "      <td>0.5</td>\n",
       "      <td>1.40</td>\n",
       "      <td>0.0</td>\n",
       "      <td>8.90</td>\n",
       "    </tr>\n",
       "    <tr>\n",
       "      <th>1</th>\n",
       "      <td>CMT</td>\n",
       "      <td>2014-01-09 20:46:12</td>\n",
       "      <td>2014-01-09 20:55:12</td>\n",
       "      <td>1</td>\n",
       "      <td>1.4</td>\n",
       "      <td>-73.982392</td>\n",
       "      <td>40.773382</td>\n",
       "      <td>1</td>\n",
       "      <td>N</td>\n",
       "      <td>-73.960449</td>\n",
       "      <td>40.763995</td>\n",
       "      <td>CRD</td>\n",
       "      <td>8.5</td>\n",
       "      <td>0.5</td>\n",
       "      <td>0.5</td>\n",
       "      <td>1.90</td>\n",
       "      <td>0.0</td>\n",
       "      <td>11.40</td>\n",
       "    </tr>\n",
       "    <tr>\n",
       "      <th>2</th>\n",
       "      <td>CMT</td>\n",
       "      <td>2014-01-09 20:44:47</td>\n",
       "      <td>2014-01-09 20:59:46</td>\n",
       "      <td>2</td>\n",
       "      <td>2.3</td>\n",
       "      <td>-73.988570</td>\n",
       "      <td>40.739406</td>\n",
       "      <td>1</td>\n",
       "      <td>N</td>\n",
       "      <td>-73.986626</td>\n",
       "      <td>40.765217</td>\n",
       "      <td>CRD</td>\n",
       "      <td>11.5</td>\n",
       "      <td>0.5</td>\n",
       "      <td>0.5</td>\n",
       "      <td>1.50</td>\n",
       "      <td>0.0</td>\n",
       "      <td>14.00</td>\n",
       "    </tr>\n",
       "    <tr>\n",
       "      <th>3</th>\n",
       "      <td>CMT</td>\n",
       "      <td>2014-01-09 20:44:57</td>\n",
       "      <td>2014-01-09 20:51:40</td>\n",
       "      <td>1</td>\n",
       "      <td>1.7</td>\n",
       "      <td>-73.960213</td>\n",
       "      <td>40.770464</td>\n",
       "      <td>1</td>\n",
       "      <td>N</td>\n",
       "      <td>-73.979863</td>\n",
       "      <td>40.777050</td>\n",
       "      <td>CRD</td>\n",
       "      <td>7.5</td>\n",
       "      <td>0.5</td>\n",
       "      <td>0.5</td>\n",
       "      <td>1.70</td>\n",
       "      <td>0.0</td>\n",
       "      <td>10.20</td>\n",
       "    </tr>\n",
       "    <tr>\n",
       "      <th>4</th>\n",
       "      <td>CMT</td>\n",
       "      <td>2014-01-09 20:47:09</td>\n",
       "      <td>2014-01-09 20:53:32</td>\n",
       "      <td>1</td>\n",
       "      <td>0.9</td>\n",
       "      <td>-73.995371</td>\n",
       "      <td>40.717248</td>\n",
       "      <td>1</td>\n",
       "      <td>N</td>\n",
       "      <td>-73.984367</td>\n",
       "      <td>40.720524</td>\n",
       "      <td>CRD</td>\n",
       "      <td>6.0</td>\n",
       "      <td>0.5</td>\n",
       "      <td>0.5</td>\n",
       "      <td>1.75</td>\n",
       "      <td>0.0</td>\n",
       "      <td>8.75</td>\n",
       "    </tr>\n",
       "  </tbody>\n",
       "</table>\n",
       "</div>"
      ],
      "text/plain": [
       "  vendor_id      pickup_datetime     dropoff_datetime  passenger_count  \\\n",
       "0       CMT  2014-01-09 20:45:25  2014-01-09 20:52:31                1   \n",
       "1       CMT  2014-01-09 20:46:12  2014-01-09 20:55:12                1   \n",
       "2       CMT  2014-01-09 20:44:47  2014-01-09 20:59:46                2   \n",
       "3       CMT  2014-01-09 20:44:57  2014-01-09 20:51:40                1   \n",
       "4       CMT  2014-01-09 20:47:09  2014-01-09 20:53:32                1   \n",
       "\n",
       "   trip_distance  pickup_longitude  pickup_latitude  rate_code  \\\n",
       "0            0.7        -73.994770        40.736828          1   \n",
       "1            1.4        -73.982392        40.773382          1   \n",
       "2            2.3        -73.988570        40.739406          1   \n",
       "3            1.7        -73.960213        40.770464          1   \n",
       "4            0.9        -73.995371        40.717248          1   \n",
       "\n",
       "  store_and_fwd_flag  dropoff_longitude  dropoff_latitude payment_type  \\\n",
       "0                  N         -73.982227         40.731790          CRD   \n",
       "1                  N         -73.960449         40.763995          CRD   \n",
       "2                  N         -73.986626         40.765217          CRD   \n",
       "3                  N         -73.979863         40.777050          CRD   \n",
       "4                  N         -73.984367         40.720524          CRD   \n",
       "\n",
       "   fare_amount  surcharge  mta_tax  tip_amount  tolls_amount  total_amount  \n",
       "0          6.5        0.5      0.5        1.40           0.0          8.90  \n",
       "1          8.5        0.5      0.5        1.90           0.0         11.40  \n",
       "2         11.5        0.5      0.5        1.50           0.0         14.00  \n",
       "3          7.5        0.5      0.5        1.70           0.0         10.20  \n",
       "4          6.0        0.5      0.5        1.75           0.0          8.75  "
      ]
     },
     "execution_count": 3,
     "metadata": {},
     "output_type": "execute_result"
    }
   ],
   "source": [
    "taxi_2014.head()"
   ]
  },
  {
   "cell_type": "code",
   "execution_count": 5,
   "id": "e91fe1d8-d6b0-4b9c-9e1e-7f48a7576804",
   "metadata": {},
   "outputs": [
    {
     "name": "stdout",
     "output_type": "stream",
     "text": [
      "Original dataset shape: (165114361, 18)\n"
     ]
    },
    {
     "data": {
      "text/plain": [
       "Index(['vendor_id', 'pickup_datetime', 'dropoff_datetime', 'passenger_count',\n",
       "       'trip_distance', 'pickup_longitude', 'pickup_latitude', 'rate_code',\n",
       "       'store_and_fwd_flag', 'dropoff_longitude', 'dropoff_latitude',\n",
       "       'payment_type', 'fare_amount', 'surcharge', 'mta_tax', 'tip_amount',\n",
       "       'tolls_amount', 'total_amount'],\n",
       "      dtype='object')"
      ]
     },
     "execution_count": 5,
     "metadata": {},
     "output_type": "execute_result"
    }
   ],
   "source": [
    "print(\"Original dataset shape:\", taxi_2014.shape)\n",
    "taxi_2014.columns"
   ]
  },
  {
   "cell_type": "code",
   "execution_count": 6,
   "id": "48586a18-ddae-4e1f-aa6a-e83ee36c9ab6",
   "metadata": {},
   "outputs": [
    {
     "name": "stdout",
     "output_type": "stream",
     "text": [
      "Removing specific columns, dataset shape: (165114361, 15)\n"
     ]
    }
   ],
   "source": [
    "taxi_2014.drop(\n",
    "    columns=['vendor_id', 'rate_code', 'store_and_fwd_flag', ],\n",
    "    inplace=True,\n",
    ")\n",
    "print(\"Removing specific columns, dataset shape:\", taxi_2014.shape)"
   ]
  },
  {
   "cell_type": "code",
   "execution_count": 7,
   "id": "9bd22997-9b23-496a-8bf5-8695bfc56266",
   "metadata": {},
   "outputs": [
    {
     "name": "stdout",
     "output_type": "stream",
     "text": [
      "Removing rows containing NaN, dataset shape: (165114216, 15)\n"
     ]
    }
   ],
   "source": [
    "taxi_2014.dropna(inplace=True)\n",
    "print(\"Removing rows containing NaN, dataset shape:\", taxi_2014.shape)"
   ]
  },
  {
   "cell_type": "code",
   "execution_count": 14,
   "id": "cf1c15ce-6c52-4b53-8967-629e0ae2d8fb",
   "metadata": {},
   "outputs": [],
   "source": [
    "taxi_2014['pickup_datetime'] = pd.to_datetime(taxi_2014['pickup_datetime'], format='%Y-%m-%d %H:%M:%S')\n",
    "taxi_2014['dropoff_datetime'] = pd.to_datetime(taxi_2014['dropoff_datetime'], format='%Y-%m-%d %H:%M:%S')"
   ]
  },
  {
   "cell_type": "code",
   "execution_count": 15,
   "id": "899f05f0-75d9-49c6-9df7-8ad5e1ba32ac",
   "metadata": {},
   "outputs": [],
   "source": [
    "taxi_2014 = taxi_2014[(-74 <= taxi_2014['pickup_longitude']) & (taxi_2014['pickup_longitude'] <= -73.5)]\n",
    "taxi_2014 = taxi_2014[(40 <= taxi_2014['pickup_latitude']) & (taxi_2014['pickup_latitude'] <= 41)]\n",
    "taxi_2014 = taxi_2014[(-74 <= taxi_2014['dropoff_longitude']) & (taxi_2014['dropoff_longitude'] <= -73.5)]\n",
    "taxi_2014 = taxi_2014[(40 <= taxi_2014['dropoff_latitude']) & (taxi_2014['dropoff_latitude'] <= 41)]"
   ]
  },
  {
   "cell_type": "code",
   "execution_count": 19,
   "id": "54722340-1393-4d07-82c3-3104e7a0164a",
   "metadata": {},
   "outputs": [
    {
     "name": "stdout",
     "output_type": "stream",
     "text": [
      "Filtering the outliners of lat and long, dataset shape (123950065, 15)\n"
     ]
    }
   ],
   "source": [
    "print(\"Filtering the abnormal values of lat and long, dataset shape\", taxi_2014.shape)"
   ]
  },
  {
   "cell_type": "code",
   "execution_count": 20,
   "id": "a99bf5ab-b6ca-4118-99fc-07bd65acce58",
   "metadata": {},
   "outputs": [
    {
     "name": "stdout",
     "output_type": "stream",
     "text": [
      "Adding the columnes of datetime respectively, dataset shape (123950065, 21)\n"
     ]
    }
   ],
   "source": [
    "taxi_2014['year'] = taxi_2014['pickup_datetime'].dt.year\n",
    "taxi_2014['month'] = taxi_2014['pickup_datetime'].dt.month\n",
    "taxi_2014['day'] = taxi_2014['pickup_datetime'].dt.day\n",
    "taxi_2014['hour'] = taxi_2014['pickup_datetime'].dt.hour\n",
    "taxi_2014['minute'] = taxi_2014['pickup_datetime'].dt.minute\n",
    "taxi_2014['second'] = taxi_2014['pickup_datetime'].dt.second\n",
    "\n",
    "print(\"Adding the columns of datetime respectively, dataset shape\", taxi_2014.shape)"
   ]
  },
  {
   "cell_type": "code",
   "execution_count": 22,
   "id": "771bbf1c-9cd2-4265-bba1-cab5b04f359a",
   "metadata": {},
   "outputs": [
    {
     "data": {
      "text/plain": [
       "(10524005, 21)"
      ]
     },
     "execution_count": 22,
     "metadata": {},
     "output_type": "execute_result"
    }
   ],
   "source": [
    "for month in range(12):\n",
    "    taxi_jan = taxi_2014[taxi_2014['month'] == 1]\n",
    "    taxi_jan.shape\n",
    "    taxi_jan.to_csv(\"./2014_\" + str(month) + \".csv\")"
   ]
  },
  {
   "cell_type": "code",
   "execution_count": null,
   "id": "c2ce8fe2-5706-4393-a4dc-bc67db647c08",
   "metadata": {},
   "outputs": [],
   "source": []
  }
 ],
 "metadata": {
  "kernelspec": {
   "display_name": "Python 3.9.13 ('py39')",
   "language": "python",
   "name": "python3"
  },
  "language_info": {
   "codemirror_mode": {
    "name": "ipython",
    "version": 3
   },
   "file_extension": ".py",
   "mimetype": "text/x-python",
   "name": "python",
   "nbconvert_exporter": "python",
   "pygments_lexer": "ipython3",
   "version": "3.9.13"
  },
  "vscode": {
   "interpreter": {
    "hash": "e100d0b0cb5b8671cbfe5ed42039a0119929ef7c64f485f6260dddfb84c6b26e"
   }
  }
 },
 "nbformat": 4,
 "nbformat_minor": 5
}
