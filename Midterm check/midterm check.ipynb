{
 "cells": [
  {
   "cell_type": "markdown",
   "metadata": {},
   "source": [
    "# Project Group - \n",
    "\n",
    "Members: 5\n",
    "\n",
    "Student numbers: Zhenlin Xu(5721679), Luyang Cao(5685915), Yuchen Qi(5695392), Xinghao Lou(5698715), Yimin Xu(5696925)"
   ]
  },
  {
   "cell_type": "markdown",
   "metadata": {},
   "source": [
    "# Research Objective\n",
    "\n",
    "*Requires data modeling and quantitative research in Transport, Infrastructure & Logistics*"
   ]
  },
  {
   "cell_type": "markdown",
   "metadata": {},
   "source": [
    "\n",
    "- Investigate the distribution and hotspot of the origin and destination of the travel by taxi in New York City.\n",
    "\n",
    "\n",
    "- Detect the hotspot of the origin and destination of travel by taxi in New York City\n",
    "\n",
    "    Is there any difference of origins and destinations of taxis in New York City between weekdays and weekends?\n",
    "    Which region is the hotspot of taxi travel origin and destination?\n",
    "    What are the travel characteristics of the hotspots? The main reason why there is a cluster center. \n",
    "\n",
    "\n",
    "- Analyze the characteristics of the data from different perspectives, such as:\n",
    "\n",
    "    1.Trip counts per day by hour\n",
    "\n",
    "    2.The total amount of fare per day by hour\n",
    "\n",
    "    3.Average trip distance per day by hour\n",
    "\n",
    "    4.Average travel speed per day by hour\n",
    "\n",
    "    5.etc.\n"
   ]
  },
  {
   "cell_type": "markdown",
   "metadata": {},
   "source": [
    "# Contribution Statement\n",
    "\n",
    "*Be specific. Some of the tasks can be coding (expect everyone to do this), background research, conceptualisation, visualisation, data analysis, data modelling*"
   ]
  },
  {
   "cell_type": "markdown",
   "metadata": {},
   "source": [
    "**Author 1**:\n",
    "\n",
    "**Author 2**:\n",
    "\n",
    "**Author 3**:"
   ]
  },
  {
   "cell_type": "markdown",
   "metadata": {},
   "source": [
    "# Data Used"
   ]
  },
  {
   "cell_type": "markdown",
   "metadata": {},
   "source": [
    "The data used in this group project were collected and provided to the NYC Taxi and Limousine Commission (TLC). \n",
    "\n",
    "Raw data is available at: TLC Trip Record Data - TLC (nyc.gov).\n",
    "\n",
    "\n"
   ]
  },
  {
   "cell_type": "markdown",
   "metadata": {},
   "source": [
    "# Data Pipeline"
   ]
  },
  {
   "cell_type": "markdown",
   "metadata": {},
   "source": [
    "1. Background research:\n",
    "\n",
    "    - Collect and read taxi travel-related literature about the study of the Origin-Destination pair.\n",
    "\n",
    "\n",
    "2. Data collecting: \n",
    "\n",
    "    - Download taxi travel data collected from 2014 provided by TLC Trip Record Data - TLC (nyc.gov). \n",
    "    - Read dataset instructions about the explanation of each column.\n",
    "\n",
    "\n",
    "3. Data splitting and cleaning: \n",
    "\n",
    "    - The total size of the dataset for the whole year 2014 is around 27G. We decided to split the data and only use one week of data for the research.\n",
    "    - Preprocessing steps including datetime parsing, and choosing specific columns are done while reading the csv file.\n",
    "    - We clean the data with NaN value.\n",
    "    - We filter the data that have abnormal values.\n",
    "\n",
    "\n",
    "4. Origin and destination clustering: using the clustering algorithms from Scikit-learn to calculate cluster centers of taxi travel origins and destinations.\n",
    "\n",
    "    - The k-means algorithm from Scikit-learn is used.\n",
    "    - An elbow algorithm is implemented to choose the best hyperparameter for k.\n",
    "    - A collection of hyperparameters are selected to fine-tune the results.\n",
    "\n",
    "\n",
    "5. Statistical explanatory: using Pandas to calculate several traffic parameters and Matplotlib to visualize the results.\n",
    "\n",
    "    - To be done after the mid-term check\n",
    "    - Matplotlib and Seaborn to visualize 2D plots.\n",
    "\n",
    "\n",
    "6. Origin and destination visualization: using Plotly to visualize the spatial-temporal evolution of the New York City taxi travel origin and destination hotspots.\n",
    "\n",
    "    - To be done after the mid-term check\n",
    "    - Geopandas to visualize the geo-scatter plots.\n",
    "\n",
    "\n",
    "7. Visualization of the different characteristics of the data set by Matplotlib and Plotly express.\n",
    "\n",
    "    - The characteristics mentioned in the objectives are visualized. \n"
   ]
  },
  {
   "cell_type": "code",
   "execution_count": null,
   "metadata": {},
   "outputs": [],
   "source": []
  }
 ],
 "metadata": {
  "kernelspec": {
   "display_name": "Python 3 (ipykernel)",
   "language": "python",
   "name": "python3"
  },
  "language_info": {
   "codemirror_mode": {
    "name": "ipython",
    "version": 3
   },
   "file_extension": ".py",
   "mimetype": "text/x-python",
   "name": "python",
   "nbconvert_exporter": "python",
   "pygments_lexer": "ipython3",
   "version": "3.9.12"
  },
  "vscode": {
   "interpreter": {
    "hash": "31f2aee4e71d21fbe5cf8b01ff0e069b9275f58929596ceb00d14d90e3e16cd6"
   }
  }
 },
 "nbformat": 4,
 "nbformat_minor": 2
}
