{
 "cells": [
  {
   "cell_type": "markdown",
   "metadata": {},
   "source": [
    "# Project Group - \n",
    "\n",
    "Members: 5\n",
    "\n",
    "Student numbers: Zhenlin Xu(5721679), Luyang Cao(5685915), Yuchen Qi(5695392), Xinghao Lou(5698715), Yimen Xu(5696925)"
   ]
  },
  {
   "cell_type": "markdown",
   "metadata": {},
   "source": [
    "# Research Objective\n",
    "\n",
    "*Requires data modeling and quantitative research in Transport, Infrastructure & Logistics*"
   ]
  },
  {
   "cell_type": "markdown",
   "metadata": {},
   "source": [
    "- Investigate the distribution and hotspot of the origin and destination of the travel by taxi in New York City.\n",
    "\n",
    "- Explore the relationship between OD hotspot and city land use and its change over time (before and after COVID-19)\n",
    "\n",
    "- Forecast the future hotspot of the origin and destination of the travel by taxi in New York City\n",
    "\n",
    "- Analyze the characteristics of trip counts per day, weekday average trips, etc.\n"
   ]
  },
  {
   "cell_type": "markdown",
   "metadata": {},
   "source": [
    "# Contribution Statement\n",
    "\n",
    "*Be specific. Some of the tasks can be coding (expect everyone to do this), background research, conceptualisation, visualisation, data analysis, data modelling*"
   ]
  },
  {
   "cell_type": "markdown",
   "metadata": {},
   "source": [
    "**Author 1**:\n",
    "\n",
    "**Author 2**:\n",
    "\n",
    "**Author 3**:"
   ]
  },
  {
   "cell_type": "markdown",
   "metadata": {},
   "source": [
    "# Data Used"
   ]
  },
  {
   "cell_type": "markdown",
   "metadata": {},
   "source": [
    "The data used in this group project were collected and provided to the NYC Taxi and Limousine Commission (TLC). Raw data is available at: TLC Trip Record Data - TLC (nyc.gov).\n",
    "\n",
    "We also use the NYC’s Zoning and Land Use data provided by https://zola.planning.nyc.gov/about/#9.72/40.7125/-73.733.\n"
   ]
  },
  {
   "cell_type": "markdown",
   "metadata": {},
   "source": [
    "# Data Pipeline"
   ]
  },
  {
   "cell_type": "markdown",
   "metadata": {},
   "source": [
    "1.Background research: reading taxi travel-related literature about study of Origin-Destination pair.\n",
    "\n",
    "2.Data collecting: downloading taxi travel data collected from 2018-2022 provided by TLC Trip Record Data - TLC (nyc.gov).\n",
    "\n",
    "3.Data checking: using Numpy and Pandas to clean and filter the data.\n",
    "\n",
    "4.Statistical explanatory: using Pandas to calculate several traffic parameters and Matplotlib to visualize the results.\n",
    "\n",
    "5.Origin and destination clustering: using the clustering algorithms from Scikit-learn to calculate cluster centers of taxi travel origins and destinations.\n",
    "\n",
    "6.Origin and destination visualization: using Plotly to visualize the spatial-temporal evolution of the New York City taxi travel origin and destination hotspots (before and after COVID-19)."
   ]
  }
 ],
 "metadata": {
  "kernelspec": {
   "display_name": "Python 3 (ipykernel)",
   "language": "python",
   "name": "python3"
  },
  "language_info": {
   "codemirror_mode": {
    "name": "ipython",
    "version": 3
   },
   "file_extension": ".py",
   "mimetype": "text/x-python",
   "name": "python",
   "nbconvert_exporter": "python",
   "pygments_lexer": "ipython3",
   "version": "3.9.12"
  },
  "vscode": {
   "interpreter": {
    "hash": "31f2aee4e71d21fbe5cf8b01ff0e069b9275f58929596ceb00d14d90e3e16cd6"
   }
  }
 },
 "nbformat": 4,
 "nbformat_minor": 2
}
